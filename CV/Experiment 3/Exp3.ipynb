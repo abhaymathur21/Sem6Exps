{
 "cells": [
  {
   "cell_type": "code",
   "execution_count": null,
   "metadata": {},
   "outputs": [],
   "source": [
    "import cv2\n",
    "import numpy as np\n",
    "import matplotlib.pyplot as plt"
   ]
  },
  {
   "cell_type": "code",
   "execution_count": null,
   "metadata": {},
   "outputs": [],
   "source": [
    "image = cv2.imread('test_image3.jpg')"
   ]
  },
  {
   "cell_type": "code",
   "execution_count": null,
   "metadata": {},
   "outputs": [],
   "source": [
    "gaussian_noise = np.random.normal(0, 0.6, image.shape).astype(np.uint8) # where 0 is mean and 25 is standard deviation\n",
    "gaussian_noisy_image = cv2.add(image, gaussian_noise)\n",
    "\n",
    "kernel_size = 3  # Define the kernel size\n",
    "gaussian_denoised_image = cv2.blur(gaussian_noisy_image, (kernel_size, kernel_size))  # Apply averaging filter\n",
    "\n",
    "kernel = np.ones((kernel_size, kernel_size), dtype=np.float32) / (kernel_size * kernel_size)  # Averaging filter kernel\n",
    "gaussian_denoised_image2 = cv2.filter2D(gaussian_noisy_image, -1, kernel)  # Convolve the image with the kernel\n",
    "    \n",
    "plt.figure(figsize=(5, 5))\n",
    "\n",
    "plt.subplot(2, 2, 1)\n",
    "plt.imshow(cv2.cvtColor(image, cv2.COLOR_BGR2RGB))\n",
    "plt.title('Original Image')\n",
    "plt.axis('off')\n",
    "\n",
    "plt.subplot(2, 2, 2)\n",
    "plt.imshow(cv2.cvtColor(gaussian_noisy_image, cv2.COLOR_BGR2RGB))\n",
    "plt.title('Noisy Image')\n",
    "plt.axis('off')\n",
    "\n",
    "plt.subplot(2, 2, 3)\n",
    "plt.imshow(cv2.cvtColor(gaussian_denoised_image, cv2.COLOR_BGR2RGB))\n",
    "plt.title('Denoise Image 1')\n",
    "plt.axis('off')\n",
    "\n",
    "plt.subplot(2, 2, 4)\n",
    "plt.imshow(cv2.cvtColor(gaussian_denoised_image2, cv2.COLOR_BGR2RGB))\n",
    "plt.title('Denoise Image 2')\n",
    "plt.axis('off')\n",
    "\n",
    "plt.show()\n"
   ]
  },
  {
   "cell_type": "code",
   "execution_count": null,
   "metadata": {},
   "outputs": [],
   "source": [
    "image2 = cv2.imread('test_image3.jpg')\n",
    "\n",
    "sp_noisy_image = np.copy(image2)\n",
    "\n",
    "num_salt = np.ceil(0.005 * image2.size * 0.5) # number of pixels that will be salt\n",
    "num_pepper = np.ceil(0.005 * image2.size * 0.5) # number of pixels that will be pepper\n",
    "\n",
    "print(num_salt, num_pepper)\n",
    "\n"
   ]
  },
  {
   "cell_type": "code",
   "execution_count": null,
   "metadata": {},
   "outputs": [],
   "source": [
    "# Add salt noise\n",
    "coords = [np.random.randint(0, i - 1, int(num_salt)) for i in image2.shape]\n",
    "sp_noisy_image[coords[0], coords[1], :] = 255 # the ':' means the specified coords are turned 255 uniformly across all the 3 rgb channels\n",
    "\n",
    "# Add pepper noise\n",
    "coords = [np.random.randint(0, i - 1, int(num_pepper)) for i in image2.shape]\n",
    "sp_noisy_image[coords[0], coords[1], :] = 0\n"
   ]
  },
  {
   "cell_type": "code",
   "execution_count": null,
   "metadata": {},
   "outputs": [],
   "source": [
    "# Denoising using cv2 median blur function\n",
    "sp_denoised_image = cv2.medianBlur(sp_noisy_image, 3)  # Apply median filter with kernel size 3x3\n",
    "\n",
    "# Denoising using median filter matrix\n",
    "rows, cols, channels = sp_noisy_image.shape\n",
    "sp_denoised_image2 = np.zeros((rows-2, cols-2, channels), dtype=np.uint8)\n",
    "for i in range(1, rows - 1):\n",
    "    for j in range(1, cols - 1):\n",
    "        for k in range(channels):\n",
    "            window = sp_noisy_image[i-1:i+2, j-1:j+2, k]\n",
    "            sp_denoised_image2[i-1, j-1, k] = np.median(window)\n",
    "\n"
   ]
  },
  {
   "cell_type": "code",
   "execution_count": null,
   "metadata": {},
   "outputs": [],
   "source": [
    "plt.figure(figsize=(5, 5))\n",
    "\n",
    "plt.subplot(2, 2, 1)\n",
    "plt.imshow(cv2.cvtColor(image2, cv2.COLOR_BGR2RGB))\n",
    "plt.title('Original Image')\n",
    "plt.axis('off')\n",
    "\n",
    "plt.subplot(2, 2, 2)\n",
    "plt.imshow(cv2.cvtColor(sp_noisy_image, cv2.COLOR_BGR2RGB))\n",
    "plt.title('Noisy Image')\n",
    "plt.axis('off')\n",
    "\n",
    "plt.subplot(2, 2, 3)\n",
    "plt.imshow(cv2.cvtColor(sp_denoised_image, cv2.COLOR_BGR2RGB))\n",
    "plt.title('Denoised Image')\n",
    "plt.axis('off')\n",
    "\n",
    "plt.subplot(2, 2, 4)\n",
    "plt.imshow(cv2.cvtColor(sp_denoised_image2, cv2.COLOR_BGR2RGB))\n",
    "plt.title('Denoised Image 2')\n",
    "plt.axis('off')\n",
    "\n",
    "plt.show()"
   ]
  }
 ],
 "metadata": {
  "kernelspec": {
   "display_name": "Python 3",
   "language": "python",
   "name": "python3"
  },
  "language_info": {
   "codemirror_mode": {
    "name": "ipython",
    "version": 3
   },
   "file_extension": ".py",
   "mimetype": "text/x-python",
   "name": "python",
   "nbconvert_exporter": "python",
   "pygments_lexer": "ipython3",
   "version": "3.11.4"
  }
 },
 "nbformat": 4,
 "nbformat_minor": 2
}
