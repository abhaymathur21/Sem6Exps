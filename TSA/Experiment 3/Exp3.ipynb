{
 "cells": [
  {
   "cell_type": "code",
   "execution_count": null,
   "metadata": {},
   "outputs": [],
   "source": [
    "import\n",
    "import\n",
    "import\n",
    "# Load\n",
    "pandas as pd\n",
    "numpy as np\n",
    "matplotlib. pyplot as pit\n",
    "AutoReg class from statsmodels ar_model module\n",
    "from statsmodels.tsa. ar_model import AutoReg\n",
    "# Load and plot the time-series data\n",
    "url =\n",
    "df pd.\n",
    "dft Consumption . plot()"
   ]
  }
 ],
 "metadata": {
  "language_info": {
   "name": "python"
  }
 },
 "nbformat": 4,
 "nbformat_minor": 2
}
