{
  "cells": [
    {
      "cell_type": "code",
      "execution_count": null,
      "metadata": {
        "_cell_guid": "b1076dfc-b9ad-4769-8c92-a6c4dae69d19",
        "_uuid": "8f2839f25d086af736a60e9eeb907d3b93b6e0e5",
        "execution": {
          "iopub.execute_input": "2021-02-21T18:11:07.163795Z",
          "iopub.status.busy": "2021-02-21T18:11:07.163077Z",
          "iopub.status.idle": "2021-02-21T18:11:08.236671Z",
          "shell.execute_reply": "2021-02-21T18:11:08.235494Z"
        },
        "id": "NQnWptW30D6i",
        "papermill": {
          "duration": 1.118385,
          "end_time": "2021-02-21T18:11:08.236894",
          "exception": false,
          "start_time": "2021-02-21T18:11:07.118509",
          "status": "completed"
        },
        "tags": []
      },
      "outputs": [
        {
          "ename": "KeyboardInterrupt",
          "evalue": "",
          "output_type": "error",
          "traceback": [
            "\u001b[1;31m---------------------------------------------------------------------------\u001b[0m",
            "\u001b[1;31mKeyboardInterrupt\u001b[0m                         Traceback (most recent call last)",
            "Cell \u001b[1;32mIn[1], line 3\u001b[0m\n\u001b[0;32m      1\u001b[0m \u001b[38;5;28;01mimport\u001b[39;00m \u001b[38;5;21;01mpandas\u001b[39;00m \u001b[38;5;28;01mas\u001b[39;00m \u001b[38;5;21;01mpd\u001b[39;00m\n\u001b[0;32m      2\u001b[0m \u001b[38;5;28;01mimport\u001b[39;00m \u001b[38;5;21;01mnumpy\u001b[39;00m \u001b[38;5;28;01mas\u001b[39;00m \u001b[38;5;21;01mnp\u001b[39;00m\n\u001b[1;32m----> 3\u001b[0m \u001b[38;5;28;01mimport\u001b[39;00m \u001b[38;5;21;01mseaborn\u001b[39;00m \u001b[38;5;28;01mas\u001b[39;00m \u001b[38;5;21;01msns\u001b[39;00m\n\u001b[0;32m      4\u001b[0m \u001b[38;5;28;01mimport\u001b[39;00m \u001b[38;5;21;01mmatplotlib\u001b[39;00m\u001b[38;5;21;01m.\u001b[39;00m\u001b[38;5;21;01mpyplot\u001b[39;00m \u001b[38;5;28;01mas\u001b[39;00m \u001b[38;5;21;01mplt\u001b[39;00m\n\u001b[0;32m      5\u001b[0m get_ipython()\u001b[38;5;241m.\u001b[39mrun_line_magic(\u001b[38;5;124m'\u001b[39m\u001b[38;5;124mmatplotlib\u001b[39m\u001b[38;5;124m'\u001b[39m, \u001b[38;5;124m'\u001b[39m\u001b[38;5;124minline\u001b[39m\u001b[38;5;124m'\u001b[39m)\n",
            "File \u001b[1;32mc:\\Users\\a21ma\\AppData\\Local\\Programs\\Python\\Python311\\Lib\\site-packages\\seaborn\\__init__.py:5\u001b[0m\n\u001b[0;32m      3\u001b[0m \u001b[38;5;28;01mfrom\u001b[39;00m \u001b[38;5;21;01m.\u001b[39;00m\u001b[38;5;21;01mutils\u001b[39;00m \u001b[38;5;28;01mimport\u001b[39;00m \u001b[38;5;241m*\u001b[39m  \u001b[38;5;66;03m# noqa: F401,F403\u001b[39;00m\n\u001b[0;32m      4\u001b[0m \u001b[38;5;28;01mfrom\u001b[39;00m \u001b[38;5;21;01m.\u001b[39;00m\u001b[38;5;21;01mpalettes\u001b[39;00m \u001b[38;5;28;01mimport\u001b[39;00m \u001b[38;5;241m*\u001b[39m  \u001b[38;5;66;03m# noqa: F401,F403\u001b[39;00m\n\u001b[1;32m----> 5\u001b[0m \u001b[38;5;28;01mfrom\u001b[39;00m \u001b[38;5;21;01m.\u001b[39;00m\u001b[38;5;21;01mrelational\u001b[39;00m \u001b[38;5;28;01mimport\u001b[39;00m \u001b[38;5;241m*\u001b[39m  \u001b[38;5;66;03m# noqa: F401,F403\u001b[39;00m\n\u001b[0;32m      6\u001b[0m \u001b[38;5;28;01mfrom\u001b[39;00m \u001b[38;5;21;01m.\u001b[39;00m\u001b[38;5;21;01mregression\u001b[39;00m \u001b[38;5;28;01mimport\u001b[39;00m \u001b[38;5;241m*\u001b[39m  \u001b[38;5;66;03m# noqa: F401,F403\u001b[39;00m\n\u001b[0;32m      7\u001b[0m \u001b[38;5;28;01mfrom\u001b[39;00m \u001b[38;5;21;01m.\u001b[39;00m\u001b[38;5;21;01mcategorical\u001b[39;00m \u001b[38;5;28;01mimport\u001b[39;00m \u001b[38;5;241m*\u001b[39m  \u001b[38;5;66;03m# noqa: F401,F403\u001b[39;00m\n",
            "File \u001b[1;32mc:\\Users\\a21ma\\AppData\\Local\\Programs\\Python\\Python311\\Lib\\site-packages\\seaborn\\relational.py:17\u001b[0m\n\u001b[0;32m      8\u001b[0m \u001b[38;5;28;01mfrom\u001b[39;00m \u001b[38;5;21;01m.\u001b[39;00m\u001b[38;5;21;01m_oldcore\u001b[39;00m \u001b[38;5;28;01mimport\u001b[39;00m (\n\u001b[0;32m      9\u001b[0m     VectorPlotter,\n\u001b[0;32m     10\u001b[0m )\n\u001b[0;32m     11\u001b[0m \u001b[38;5;28;01mfrom\u001b[39;00m \u001b[38;5;21;01m.\u001b[39;00m\u001b[38;5;21;01mutils\u001b[39;00m \u001b[38;5;28;01mimport\u001b[39;00m (\n\u001b[0;32m     12\u001b[0m     locator_to_legend_entries,\n\u001b[0;32m     13\u001b[0m     adjust_legend_subtitles,\n\u001b[0;32m     14\u001b[0m     _default_color,\n\u001b[0;32m     15\u001b[0m     _deprecate_ci,\n\u001b[0;32m     16\u001b[0m )\n\u001b[1;32m---> 17\u001b[0m \u001b[38;5;28;01mfrom\u001b[39;00m \u001b[38;5;21;01m.\u001b[39;00m\u001b[38;5;21;01m_statistics\u001b[39;00m \u001b[38;5;28;01mimport\u001b[39;00m EstimateAggregator\n\u001b[0;32m     18\u001b[0m \u001b[38;5;28;01mfrom\u001b[39;00m \u001b[38;5;21;01m.\u001b[39;00m\u001b[38;5;21;01maxisgrid\u001b[39;00m \u001b[38;5;28;01mimport\u001b[39;00m FacetGrid, _facet_docs\n\u001b[0;32m     19\u001b[0m \u001b[38;5;28;01mfrom\u001b[39;00m \u001b[38;5;21;01m.\u001b[39;00m\u001b[38;5;21;01m_docstrings\u001b[39;00m \u001b[38;5;28;01mimport\u001b[39;00m DocstringComponents, _core_docs\n",
            "File \u001b[1;32mc:\\Users\\a21ma\\AppData\\Local\\Programs\\Python\\Python311\\Lib\\site-packages\\seaborn\\_statistics.py:31\u001b[0m\n\u001b[0;32m     29\u001b[0m \u001b[38;5;28;01mimport\u001b[39;00m \u001b[38;5;21;01mpandas\u001b[39;00m \u001b[38;5;28;01mas\u001b[39;00m \u001b[38;5;21;01mpd\u001b[39;00m\n\u001b[0;32m     30\u001b[0m \u001b[38;5;28;01mtry\u001b[39;00m:\n\u001b[1;32m---> 31\u001b[0m     \u001b[38;5;28;01mfrom\u001b[39;00m \u001b[38;5;21;01mscipy\u001b[39;00m\u001b[38;5;21;01m.\u001b[39;00m\u001b[38;5;21;01mstats\u001b[39;00m \u001b[38;5;28;01mimport\u001b[39;00m gaussian_kde\n\u001b[0;32m     32\u001b[0m     _no_scipy \u001b[38;5;241m=\u001b[39m \u001b[38;5;28;01mFalse\u001b[39;00m\n\u001b[0;32m     33\u001b[0m \u001b[38;5;28;01mexcept\u001b[39;00m \u001b[38;5;167;01mImportError\u001b[39;00m:\n",
            "File \u001b[1;32mc:\\Users\\a21ma\\AppData\\Local\\Programs\\Python\\Python311\\Lib\\site-packages\\scipy\\stats\\__init__.py:608\u001b[0m\n\u001b[0;32m      1\u001b[0m \u001b[38;5;124;03m\"\"\"\u001b[39;00m\n\u001b[0;32m      2\u001b[0m \u001b[38;5;124;03m.. _statsrefmanual:\u001b[39;00m\n\u001b[0;32m      3\u001b[0m \n\u001b[1;32m   (...)\u001b[0m\n\u001b[0;32m    603\u001b[0m \n\u001b[0;32m    604\u001b[0m \u001b[38;5;124;03m\"\"\"\u001b[39;00m\n\u001b[0;32m    606\u001b[0m \u001b[38;5;28;01mfrom\u001b[39;00m \u001b[38;5;21;01m.\u001b[39;00m\u001b[38;5;21;01m_warnings_errors\u001b[39;00m \u001b[38;5;28;01mimport\u001b[39;00m (ConstantInputWarning, NearConstantInputWarning,\n\u001b[0;32m    607\u001b[0m                                DegenerateDataWarning, FitError)\n\u001b[1;32m--> 608\u001b[0m \u001b[38;5;28;01mfrom\u001b[39;00m \u001b[38;5;21;01m.\u001b[39;00m\u001b[38;5;21;01m_stats_py\u001b[39;00m \u001b[38;5;28;01mimport\u001b[39;00m \u001b[38;5;241m*\u001b[39m\n\u001b[0;32m    609\u001b[0m \u001b[38;5;28;01mfrom\u001b[39;00m \u001b[38;5;21;01m.\u001b[39;00m\u001b[38;5;21;01m_variation\u001b[39;00m \u001b[38;5;28;01mimport\u001b[39;00m variation\n\u001b[0;32m    610\u001b[0m \u001b[38;5;28;01mfrom\u001b[39;00m \u001b[38;5;21;01m.\u001b[39;00m\u001b[38;5;21;01mdistributions\u001b[39;00m \u001b[38;5;28;01mimport\u001b[39;00m \u001b[38;5;241m*\u001b[39m\n",
            "File \u001b[1;32mc:\\Users\\a21ma\\AppData\\Local\\Programs\\Python\\Python311\\Lib\\site-packages\\scipy\\stats\\_stats_py.py:46\u001b[0m\n\u001b[0;32m     44\u001b[0m \u001b[38;5;28;01mimport\u001b[39;00m \u001b[38;5;21;01mscipy\u001b[39;00m\u001b[38;5;21;01m.\u001b[39;00m\u001b[38;5;21;01mspecial\u001b[39;00m \u001b[38;5;28;01mas\u001b[39;00m \u001b[38;5;21;01mspecial\u001b[39;00m\n\u001b[0;32m     45\u001b[0m \u001b[38;5;28;01mfrom\u001b[39;00m \u001b[38;5;21;01mscipy\u001b[39;00m \u001b[38;5;28;01mimport\u001b[39;00m linalg\n\u001b[1;32m---> 46\u001b[0m \u001b[38;5;28;01mfrom\u001b[39;00m \u001b[38;5;21;01m.\u001b[39;00m \u001b[38;5;28;01mimport\u001b[39;00m distributions\n\u001b[0;32m     47\u001b[0m \u001b[38;5;28;01mfrom\u001b[39;00m \u001b[38;5;21;01m.\u001b[39;00m \u001b[38;5;28;01mimport\u001b[39;00m _mstats_basic \u001b[38;5;28;01mas\u001b[39;00m mstats_basic\n\u001b[0;32m     48\u001b[0m \u001b[38;5;28;01mfrom\u001b[39;00m \u001b[38;5;21;01m.\u001b[39;00m\u001b[38;5;21;01m_stats_mstats_common\u001b[39;00m \u001b[38;5;28;01mimport\u001b[39;00m (_find_repeats, linregress, theilslopes,\n\u001b[0;32m     49\u001b[0m                                    siegelslopes)\n",
            "File \u001b[1;32mc:\\Users\\a21ma\\AppData\\Local\\Programs\\Python\\Python311\\Lib\\site-packages\\scipy\\stats\\distributions.py:8\u001b[0m\n\u001b[0;32m      1\u001b[0m \u001b[38;5;66;03m#\u001b[39;00m\n\u001b[0;32m      2\u001b[0m \u001b[38;5;66;03m# Author:  Travis Oliphant  2002-2011 with contributions from\u001b[39;00m\n\u001b[0;32m      3\u001b[0m \u001b[38;5;66;03m#          SciPy Developers 2004-2011\u001b[39;00m\n\u001b[1;32m   (...)\u001b[0m\n\u001b[0;32m      6\u001b[0m \u001b[38;5;66;03m#       instead of `git blame -Lxxx,+x`.\u001b[39;00m\n\u001b[0;32m      7\u001b[0m \u001b[38;5;66;03m#\u001b[39;00m\n\u001b[1;32m----> 8\u001b[0m \u001b[38;5;28;01mfrom\u001b[39;00m \u001b[38;5;21;01m.\u001b[39;00m\u001b[38;5;21;01m_distn_infrastructure\u001b[39;00m \u001b[38;5;28;01mimport\u001b[39;00m (rv_discrete, rv_continuous, rv_frozen)  \u001b[38;5;66;03m# noqa: F401\u001b[39;00m\n\u001b[0;32m     10\u001b[0m \u001b[38;5;28;01mfrom\u001b[39;00m \u001b[38;5;21;01m.\u001b[39;00m \u001b[38;5;28;01mimport\u001b[39;00m _continuous_distns\n\u001b[0;32m     11\u001b[0m \u001b[38;5;28;01mfrom\u001b[39;00m \u001b[38;5;21;01m.\u001b[39;00m \u001b[38;5;28;01mimport\u001b[39;00m _discrete_distns\n",
            "File \u001b[1;32mc:\\Users\\a21ma\\AppData\\Local\\Programs\\Python\\Python311\\Lib\\site-packages\\scipy\\stats\\_distn_infrastructure.py:23\u001b[0m\n\u001b[0;32m     18\u001b[0m \u001b[38;5;28;01mfrom\u001b[39;00m \u001b[38;5;21;01mscipy\u001b[39;00m\u001b[38;5;21;01m.\u001b[39;00m\u001b[38;5;21;01mspecial\u001b[39;00m \u001b[38;5;28;01mimport\u001b[39;00m comb, entr\n\u001b[0;32m     21\u001b[0m \u001b[38;5;66;03m# for root finding for continuous distribution ppf, and maximum likelihood\u001b[39;00m\n\u001b[0;32m     22\u001b[0m \u001b[38;5;66;03m# estimation\u001b[39;00m\n\u001b[1;32m---> 23\u001b[0m \u001b[38;5;28;01mfrom\u001b[39;00m \u001b[38;5;21;01mscipy\u001b[39;00m \u001b[38;5;28;01mimport\u001b[39;00m optimize\n\u001b[0;32m     25\u001b[0m \u001b[38;5;66;03m# for functions of continuous distributions (e.g. moments, entropy, cdf)\u001b[39;00m\n\u001b[0;32m     26\u001b[0m \u001b[38;5;28;01mfrom\u001b[39;00m \u001b[38;5;21;01mscipy\u001b[39;00m \u001b[38;5;28;01mimport\u001b[39;00m integrate\n",
            "File \u001b[1;32m<frozen importlib._bootstrap>:1229\u001b[0m, in \u001b[0;36m_handle_fromlist\u001b[1;34m(module, fromlist, import_, recursive)\u001b[0m\n",
            "File \u001b[1;32mc:\\Users\\a21ma\\AppData\\Local\\Programs\\Python\\Python311\\Lib\\site-packages\\scipy\\__init__.py:204\u001b[0m, in \u001b[0;36m__getattr__\u001b[1;34m(name)\u001b[0m\n\u001b[0;32m    202\u001b[0m \u001b[38;5;28;01mdef\u001b[39;00m \u001b[38;5;21m__getattr__\u001b[39m(name):\n\u001b[0;32m    203\u001b[0m     \u001b[38;5;28;01mif\u001b[39;00m name \u001b[38;5;129;01min\u001b[39;00m submodules:\n\u001b[1;32m--> 204\u001b[0m         \u001b[38;5;28;01mreturn\u001b[39;00m \u001b[43m_importlib\u001b[49m\u001b[38;5;241;43m.\u001b[39;49m\u001b[43mimport_module\u001b[49m\u001b[43m(\u001b[49m\u001b[38;5;124;43mf\u001b[39;49m\u001b[38;5;124;43m'\u001b[39;49m\u001b[38;5;124;43mscipy.\u001b[39;49m\u001b[38;5;132;43;01m{\u001b[39;49;00m\u001b[43mname\u001b[49m\u001b[38;5;132;43;01m}\u001b[39;49;00m\u001b[38;5;124;43m'\u001b[39;49m\u001b[43m)\u001b[49m\n\u001b[0;32m    205\u001b[0m     \u001b[38;5;28;01melse\u001b[39;00m:\n\u001b[0;32m    206\u001b[0m         \u001b[38;5;28;01mtry\u001b[39;00m:\n",
            "File \u001b[1;32mc:\\Users\\a21ma\\AppData\\Local\\Programs\\Python\\Python311\\Lib\\importlib\\__init__.py:126\u001b[0m, in \u001b[0;36mimport_module\u001b[1;34m(name, package)\u001b[0m\n\u001b[0;32m    124\u001b[0m             \u001b[38;5;28;01mbreak\u001b[39;00m\n\u001b[0;32m    125\u001b[0m         level \u001b[38;5;241m+\u001b[39m\u001b[38;5;241m=\u001b[39m \u001b[38;5;241m1\u001b[39m\n\u001b[1;32m--> 126\u001b[0m \u001b[38;5;28;01mreturn\u001b[39;00m \u001b[43m_bootstrap\u001b[49m\u001b[38;5;241;43m.\u001b[39;49m\u001b[43m_gcd_import\u001b[49m\u001b[43m(\u001b[49m\u001b[43mname\u001b[49m\u001b[43m[\u001b[49m\u001b[43mlevel\u001b[49m\u001b[43m:\u001b[49m\u001b[43m]\u001b[49m\u001b[43m,\u001b[49m\u001b[43m \u001b[49m\u001b[43mpackage\u001b[49m\u001b[43m,\u001b[49m\u001b[43m \u001b[49m\u001b[43mlevel\u001b[49m\u001b[43m)\u001b[49m\n",
            "File \u001b[1;32mc:\\Users\\a21ma\\AppData\\Local\\Programs\\Python\\Python311\\Lib\\site-packages\\scipy\\optimize\\__init__.py:420\u001b[0m\n\u001b[0;32m    418\u001b[0m \u001b[38;5;28;01mfrom\u001b[39;00m \u001b[38;5;21;01m.\u001b[39;00m\u001b[38;5;21;01m_nonlin\u001b[39;00m \u001b[38;5;28;01mimport\u001b[39;00m \u001b[38;5;241m*\u001b[39m\n\u001b[0;32m    419\u001b[0m \u001b[38;5;28;01mfrom\u001b[39;00m \u001b[38;5;21;01m.\u001b[39;00m\u001b[38;5;21;01m_slsqp_py\u001b[39;00m \u001b[38;5;28;01mimport\u001b[39;00m fmin_slsqp\n\u001b[1;32m--> 420\u001b[0m \u001b[38;5;28;01mfrom\u001b[39;00m \u001b[38;5;21;01m.\u001b[39;00m\u001b[38;5;21;01m_nnls\u001b[39;00m \u001b[38;5;28;01mimport\u001b[39;00m nnls\n\u001b[0;32m    421\u001b[0m \u001b[38;5;28;01mfrom\u001b[39;00m \u001b[38;5;21;01m.\u001b[39;00m\u001b[38;5;21;01m_basinhopping\u001b[39;00m \u001b[38;5;28;01mimport\u001b[39;00m basinhopping\n\u001b[0;32m    422\u001b[0m \u001b[38;5;28;01mfrom\u001b[39;00m \u001b[38;5;21;01m.\u001b[39;00m\u001b[38;5;21;01m_linprog\u001b[39;00m \u001b[38;5;28;01mimport\u001b[39;00m linprog, linprog_verbose_callback\n",
            "File \u001b[1;32m<frozen importlib._bootstrap>:1176\u001b[0m, in \u001b[0;36m_find_and_load\u001b[1;34m(name, import_)\u001b[0m\n",
            "File \u001b[1;32m<frozen importlib._bootstrap>:1147\u001b[0m, in \u001b[0;36m_find_and_load_unlocked\u001b[1;34m(name, import_)\u001b[0m\n",
            "File \u001b[1;32m<frozen importlib._bootstrap>:690\u001b[0m, in \u001b[0;36m_load_unlocked\u001b[1;34m(spec)\u001b[0m\n",
            "File \u001b[1;32m<frozen importlib._bootstrap_external>:936\u001b[0m, in \u001b[0;36mexec_module\u001b[1;34m(self, module)\u001b[0m\n",
            "File \u001b[1;32m<frozen importlib._bootstrap_external>:1026\u001b[0m, in \u001b[0;36mget_code\u001b[1;34m(self, fullname)\u001b[0m\n",
            "File \u001b[1;32m<frozen importlib._bootstrap_external>:1148\u001b[0m, in \u001b[0;36mpath_stats\u001b[1;34m(self, path)\u001b[0m\n",
            "File \u001b[1;32m<frozen importlib._bootstrap_external>:147\u001b[0m, in \u001b[0;36m_path_stat\u001b[1;34m(path)\u001b[0m\n",
            "\u001b[1;31mKeyboardInterrupt\u001b[0m: "
          ]
        }
      ],
      "source": [
        "import pandas as pd\n",
        "import numpy as np\n",
        "import seaborn as sns\n",
        "import matplotlib.pyplot as plt\n",
        "%matplotlib inline\n",
        "\n",
        "import warnings\n",
        "warnings.filterwarnings('ignore')\n",
        "\n",
        "from statsmodels.tsa.stattools import adfuller\n",
        "from statsmodels.tsa.seasonal import seasonal_decompose\n",
        "from statsmodels.tsa.stattools import acf, pacf\n",
        "from statsmodels.tsa.arima.model import ARIMA"
      ]
    },
    {
      "cell_type": "code",
      "execution_count": null,
      "metadata": {
        "execution": {
          "iopub.execute_input": "2021-02-21T18:11:08.388767Z",
          "iopub.status.busy": "2021-02-21T18:11:08.388114Z",
          "iopub.status.idle": "2021-02-21T18:11:08.409168Z",
          "shell.execute_reply": "2021-02-21T18:11:08.409694Z"
        },
        "id": "bOYkO-1j0D6k",
        "papermill": {
          "duration": 0.063235,
          "end_time": "2021-02-21T18:11:08.409905",
          "exception": false,
          "start_time": "2021-02-21T18:11:08.346670",
          "status": "completed"
        },
        "tags": []
      },
      "outputs": [],
      "source": [
        "airpass = pd.read_csv('/content/AirPassengers.csv')"
      ]
    },
    {
      "cell_type": "code",
      "execution_count": null,
      "metadata": {
        "execution": {
          "iopub.execute_input": "2021-02-21T18:11:08.570092Z",
          "iopub.status.busy": "2021-02-21T18:11:08.569283Z",
          "iopub.status.idle": "2021-02-21T18:11:08.667145Z",
          "shell.execute_reply": "2021-02-21T18:11:08.666453Z"
        },
        "id": "hzeZIkRL0D6k",
        "papermill": {
          "duration": 0.148253,
          "end_time": "2021-02-21T18:11:08.667291",
          "exception": false,
          "start_time": "2021-02-21T18:11:08.519038",
          "status": "completed"
        },
        "tags": []
      },
      "outputs": [],
      "source": [
        "airpass.head(5)"
      ]
    },
    {
      "cell_type": "code",
      "execution_count": null,
      "metadata": {
        "execution": {
          "iopub.execute_input": "2021-02-21T18:11:08.752957Z",
          "iopub.status.busy": "2021-02-21T18:11:08.752069Z",
          "iopub.status.idle": "2021-02-21T18:11:08.756571Z",
          "shell.execute_reply": "2021-02-21T18:11:08.756012Z"
        },
        "id": "HoFH9n340D6k",
        "papermill": {
          "duration": 0.051108,
          "end_time": "2021-02-21T18:11:08.756719",
          "exception": false,
          "start_time": "2021-02-21T18:11:08.705611",
          "status": "completed"
        },
        "tags": []
      },
      "outputs": [],
      "source": [
        "airpass.tail(5)"
      ]
    },
    {
      "cell_type": "code",
      "execution_count": null,
      "metadata": {
        "execution": {
          "iopub.execute_input": "2021-02-21T18:11:08.915645Z",
          "iopub.status.busy": "2021-02-21T18:11:08.914630Z",
          "iopub.status.idle": "2021-02-21T18:11:08.917949Z",
          "shell.execute_reply": "2021-02-21T18:11:08.917263Z"
        },
        "id": "BJiRnwdJ0D6l",
        "papermill": {
          "duration": 0.047031,
          "end_time": "2021-02-21T18:11:08.918110",
          "exception": false,
          "start_time": "2021-02-21T18:11:08.871079",
          "status": "completed"
        },
        "tags": []
      },
      "outputs": [],
      "source": [
        "airpass.rename(columns={'#Passengers':'Passengers'},inplace=True)"
      ]
    },
    {
      "cell_type": "code",
      "execution_count": null,
      "metadata": {
        "execution": {
          "iopub.execute_input": "2021-02-21T18:11:09.006363Z",
          "iopub.status.busy": "2021-02-21T18:11:09.005460Z",
          "iopub.status.idle": "2021-02-21T18:11:09.010407Z",
          "shell.execute_reply": "2021-02-21T18:11:09.009853Z"
        },
        "id": "P1l7y1-80D6l",
        "papermill": {
          "duration": 0.052966,
          "end_time": "2021-02-21T18:11:09.010584",
          "exception": false,
          "start_time": "2021-02-21T18:11:08.957618",
          "status": "completed"
        },
        "tags": []
      },
      "outputs": [],
      "source": [
        "airpass.head()"
      ]
    },
    {
      "cell_type": "code",
      "execution_count": null,
      "metadata": {
        "execution": {
          "iopub.execute_input": "2021-02-21T18:11:09.094547Z",
          "iopub.status.busy": "2021-02-21T18:11:09.093574Z",
          "iopub.status.idle": "2021-02-21T18:11:09.097592Z",
          "shell.execute_reply": "2021-02-21T18:11:09.098033Z"
        },
        "id": "ksW8m2ao0D6l",
        "papermill": {
          "duration": 0.048126,
          "end_time": "2021-02-21T18:11:09.098202",
          "exception": false,
          "start_time": "2021-02-21T18:11:09.050076",
          "status": "completed"
        },
        "tags": []
      },
      "outputs": [],
      "source": [
        "airpass.shape"
      ]
    },
    {
      "cell_type": "code",
      "execution_count": null,
      "metadata": {
        "execution": {
          "iopub.execute_input": "2021-02-21T18:11:09.195445Z",
          "iopub.status.busy": "2021-02-21T18:11:09.194629Z",
          "iopub.status.idle": "2021-02-21T18:11:09.197748Z",
          "shell.execute_reply": "2021-02-21T18:11:09.198644Z"
        },
        "id": "gKwoiU1u0D6l",
        "papermill": {
          "duration": 0.061309,
          "end_time": "2021-02-21T18:11:09.198886",
          "exception": false,
          "start_time": "2021-02-21T18:11:09.137577",
          "status": "completed"
        },
        "tags": []
      },
      "outputs": [],
      "source": [
        "airpass.info()"
      ]
    },
    {
      "cell_type": "code",
      "execution_count": null,
      "metadata": {
        "execution": {
          "iopub.execute_input": "2021-02-21T18:11:09.362244Z",
          "iopub.status.busy": "2021-02-21T18:11:09.361658Z",
          "iopub.status.idle": "2021-02-21T18:11:09.370974Z",
          "shell.execute_reply": "2021-02-21T18:11:09.371547Z"
        },
        "id": "Xk6smdty0D6l",
        "papermill": {
          "duration": 0.052546,
          "end_time": "2021-02-21T18:11:09.371724",
          "exception": false,
          "start_time": "2021-02-21T18:11:09.319178",
          "status": "completed"
        },
        "tags": []
      },
      "outputs": [],
      "source": [
        "from datetime import datetime\n",
        "airpass['Month']=pd.to_datetime(airpass['Month'],infer_datetime_format=True)"
      ]
    },
    {
      "cell_type": "code",
      "execution_count": null,
      "metadata": {
        "execution": {
          "iopub.execute_input": "2021-02-21T18:11:09.454557Z",
          "iopub.status.busy": "2021-02-21T18:11:09.453823Z",
          "iopub.status.idle": "2021-02-21T18:11:09.466455Z",
          "shell.execute_reply": "2021-02-21T18:11:09.467283Z"
        },
        "id": "cbh_dCvu0D6l",
        "papermill": {
          "duration": 0.055911,
          "end_time": "2021-02-21T18:11:09.467572",
          "exception": false,
          "start_time": "2021-02-21T18:11:09.411661",
          "status": "completed"
        },
        "tags": []
      },
      "outputs": [],
      "source": [
        "airpass.info()"
      ]
    },
    {
      "cell_type": "code",
      "execution_count": null,
      "metadata": {
        "execution": {
          "iopub.execute_input": "2021-02-21T18:11:09.637857Z",
          "iopub.status.busy": "2021-02-21T18:11:09.637160Z",
          "iopub.status.idle": "2021-02-21T18:11:09.641720Z",
          "shell.execute_reply": "2021-02-21T18:11:09.642232Z"
        },
        "id": "oxFTKjvQ0D6l",
        "papermill": {
          "duration": 0.053148,
          "end_time": "2021-02-21T18:11:09.642409",
          "exception": false,
          "start_time": "2021-02-21T18:11:09.589261",
          "status": "completed"
        },
        "tags": []
      },
      "outputs": [],
      "source": [
        "airpassind = airpass.set_index('Month',inplace=False)"
      ]
    },
    {
      "cell_type": "code",
      "execution_count": null,
      "metadata": {
        "execution": {
          "iopub.execute_input": "2021-02-21T18:11:09.728141Z",
          "iopub.status.busy": "2021-02-21T18:11:09.727440Z",
          "iopub.status.idle": "2021-02-21T18:11:09.736292Z",
          "shell.execute_reply": "2021-02-21T18:11:09.736845Z"
        },
        "id": "FYJ5rQP70D6l",
        "papermill": {
          "duration": 0.053952,
          "end_time": "2021-02-21T18:11:09.737033",
          "exception": false,
          "start_time": "2021-02-21T18:11:09.683081",
          "status": "completed"
        },
        "tags": []
      },
      "outputs": [],
      "source": [
        "airpassind.head()"
      ]
    },
    {
      "cell_type": "markdown",
      "metadata": {
        "id": "f-CL9l1C0D6m",
        "papermill": {
          "duration": 0.041313,
          "end_time": "2021-02-21T18:11:09.819301",
          "exception": false,
          "start_time": "2021-02-21T18:11:09.777988",
          "status": "completed"
        },
        "tags": []
      },
      "source": [
        "**Let's plot the data**"
      ]
    },
    {
      "cell_type": "code",
      "execution_count": null,
      "metadata": {
        "execution": {
          "iopub.execute_input": "2021-02-21T18:11:09.905018Z",
          "iopub.status.busy": "2021-02-21T18:11:09.904331Z",
          "iopub.status.idle": "2021-02-21T18:11:10.091002Z",
          "shell.execute_reply": "2021-02-21T18:11:10.091466Z"
        },
        "id": "X-_qaSCe0D6m",
        "papermill": {
          "duration": 0.230782,
          "end_time": "2021-02-21T18:11:10.091668",
          "exception": false,
          "start_time": "2021-02-21T18:11:09.860886",
          "status": "completed"
        },
        "tags": []
      },
      "outputs": [],
      "source": [
        "plt.xlabel('Date')\n",
        "plt.ylabel('Number Of Air Passengers')\n",
        "plt.plot(airpassind)"
      ]
    },
    {
      "cell_type": "code",
      "execution_count": null,
      "metadata": {
        "execution": {
          "iopub.execute_input": "2021-02-21T18:11:10.349288Z",
          "iopub.status.busy": "2021-02-21T18:11:10.348682Z",
          "iopub.status.idle": "2021-02-21T18:11:10.356183Z",
          "shell.execute_reply": "2021-02-21T18:11:10.356692Z"
        },
        "id": "NCzmS2J60D6m",
        "papermill": {
          "duration": 0.053234,
          "end_time": "2021-02-21T18:11:10.356865",
          "exception": false,
          "start_time": "2021-02-21T18:11:10.303631",
          "status": "completed"
        },
        "tags": []
      },
      "outputs": [],
      "source": [
        "def test_stationarity(timeseries):\n",
        "\n",
        "    #Determine rolling statistics\n",
        "    movingAverage = timeseries.rolling(window=12).mean()\n",
        "    movingSTD = timeseries.rolling(window=12).std()\n",
        "\n",
        "    #Plot rolling statistics\n",
        "    plt.plot(timeseries, color='blue', label='Original')\n",
        "    plt.plot(movingAverage, color='red', label='Rolling Mean')\n",
        "    plt.plot(movingSTD, color='black', label='Rolling Std')\n",
        "    plt.legend(loc='best')\n",
        "    plt.title('Rolling Mean & Standard Deviation')\n",
        "    plt.show(block=False)\n",
        "\n",
        "    #Perform Dickey–Fuller test:\n",
        "    print('Results of Dickey Fuller Test:')\n",
        "    airpass_test = adfuller(timeseries['Passengers'], autolag='AIC')\n",
        "    dfoutput = pd.Series(airpass_test[0:4], index=['Test Statistic','p-value','#Lags Used','Number of Observations Used'])\n",
        "    for key,value in airpass_test[4].items():\n",
        "        dfoutput['Critical Value (%s)'%key] = value\n",
        "    print(dfoutput)"
      ]
    },
    {
      "cell_type": "code",
      "execution_count": null,
      "metadata": {
        "execution": {
          "iopub.execute_input": "2021-02-21T18:11:10.533566Z",
          "iopub.status.busy": "2021-02-21T18:11:10.532830Z",
          "iopub.status.idle": "2021-02-21T18:11:10.767062Z",
          "shell.execute_reply": "2021-02-21T18:11:10.766095Z"
        },
        "id": "ZqFu13g60D6n",
        "papermill": {
          "duration": 0.27945,
          "end_time": "2021-02-21T18:11:10.767269",
          "exception": false,
          "start_time": "2021-02-21T18:11:10.487819",
          "status": "completed"
        },
        "tags": []
      },
      "outputs": [],
      "source": [
        "test_stationarity(airpassind)"
      ]
    },
    {
      "cell_type": "code",
      "execution_count": null,
      "metadata": {
        "execution": {
          "iopub.execute_input": "2021-02-21T18:11:11.131637Z",
          "iopub.status.busy": "2021-02-21T18:11:11.130675Z",
          "iopub.status.idle": "2021-02-21T18:11:11.135989Z",
          "shell.execute_reply": "2021-02-21T18:11:11.135491Z"
        },
        "id": "1SO_JTu20D6n",
        "papermill": {
          "duration": 0.053255,
          "end_time": "2021-02-21T18:11:11.136134",
          "exception": false,
          "start_time": "2021-02-21T18:11:11.082879",
          "status": "completed"
        },
        "tags": []
      },
      "outputs": [],
      "source": [
        "airpass_log = np.log(airpassind)"
      ]
    },
    {
      "cell_type": "code",
      "execution_count": null,
      "metadata": {
        "execution": {
          "iopub.execute_input": "2021-02-21T18:11:11.228976Z",
          "iopub.status.busy": "2021-02-21T18:11:11.228011Z",
          "iopub.status.idle": "2021-02-21T18:11:11.388848Z",
          "shell.execute_reply": "2021-02-21T18:11:11.389301Z"
        },
        "id": "oLSiwB4Q0D6n",
        "papermill": {
          "duration": 0.208707,
          "end_time": "2021-02-21T18:11:11.389491",
          "exception": false,
          "start_time": "2021-02-21T18:11:11.180784",
          "status": "completed"
        },
        "tags": []
      },
      "outputs": [],
      "source": [
        "plt.plot(airpass_log)"
      ]
    },
    {
      "cell_type": "code",
      "execution_count": null,
      "metadata": {
        "execution": {
          "iopub.execute_input": "2021-02-21T18:11:11.577684Z",
          "iopub.status.busy": "2021-02-21T18:11:11.576714Z",
          "iopub.status.idle": "2021-02-21T18:11:11.582721Z",
          "shell.execute_reply": "2021-02-21T18:11:11.583183Z"
        },
        "id": "UP2MdriC0D6n",
        "papermill": {
          "duration": 0.055671,
          "end_time": "2021-02-21T18:11:11.583360",
          "exception": false,
          "start_time": "2021-02-21T18:11:11.527689",
          "status": "completed"
        },
        "tags": []
      },
      "outputs": [],
      "source": [
        "rollmean_log = airpass_log.rolling(window=12).mean()\n",
        "rollstd_log = airpass_log.rolling(window=12).std()"
      ]
    },
    {
      "cell_type": "code",
      "execution_count": null,
      "metadata": {
        "execution": {
          "iopub.execute_input": "2021-02-21T18:11:11.691749Z",
          "iopub.status.busy": "2021-02-21T18:11:11.690767Z",
          "iopub.status.idle": "2021-02-21T18:11:11.922978Z",
          "shell.execute_reply": "2021-02-21T18:11:11.922407Z"
        },
        "id": "5ONmYzLx0D6n",
        "papermill": {
          "duration": 0.290391,
          "end_time": "2021-02-21T18:11:11.923173",
          "exception": false,
          "start_time": "2021-02-21T18:11:11.632782",
          "status": "completed"
        },
        "tags": []
      },
      "outputs": [],
      "source": [
        "plt.plot(airpass_log, color='blue', label='Original')\n",
        "plt.plot(rollmean_log, color='red', label='Rolling Mean')\n",
        "plt.plot(rollstd_log, color='black', label='Rolling Std')\n",
        "plt.legend(loc='best')\n",
        "plt.title('Rolling Mean & Standard Deviation (Logarithmic Scale)')"
      ]
    },
    {
      "cell_type": "code",
      "execution_count": null,
      "metadata": {
        "execution": {
          "iopub.execute_input": "2021-02-21T18:11:12.124052Z",
          "iopub.status.busy": "2021-02-21T18:11:12.123303Z",
          "iopub.status.idle": "2021-02-21T18:11:12.142662Z",
          "shell.execute_reply": "2021-02-21T18:11:12.141768Z"
        },
        "id": "oSylw0Z40D6n",
        "papermill": {
          "duration": 0.072076,
          "end_time": "2021-02-21T18:11:12.142821",
          "exception": false,
          "start_time": "2021-02-21T18:11:12.070745",
          "status": "completed"
        },
        "tags": []
      },
      "outputs": [],
      "source": [
        "airpass_new = airpass_log - rollmean_log"
      ]
    },
    {
      "cell_type": "code",
      "execution_count": null,
      "metadata": {
        "execution": {
          "iopub.execute_input": "2021-02-21T18:11:12.246527Z",
          "iopub.status.busy": "2021-02-21T18:11:12.245836Z",
          "iopub.status.idle": "2021-02-21T18:11:12.249824Z",
          "shell.execute_reply": "2021-02-21T18:11:12.249273Z"
        },
        "id": "t5qmuv7N0D6n",
        "papermill": {
          "duration": 0.059853,
          "end_time": "2021-02-21T18:11:12.249969",
          "exception": false,
          "start_time": "2021-02-21T18:11:12.190116",
          "status": "completed"
        },
        "tags": []
      },
      "outputs": [],
      "source": [
        "airpass_new.head()"
      ]
    },
    {
      "cell_type": "code",
      "execution_count": null,
      "metadata": {
        "execution": {
          "iopub.execute_input": "2021-02-21T18:11:12.352966Z",
          "iopub.status.busy": "2021-02-21T18:11:12.352298Z",
          "iopub.status.idle": "2021-02-21T18:11:12.355218Z",
          "shell.execute_reply": "2021-02-21T18:11:12.355729Z"
        },
        "id": "MSa5IxuD0D6n",
        "papermill": {
          "duration": 0.057976,
          "end_time": "2021-02-21T18:11:12.355902",
          "exception": false,
          "start_time": "2021-02-21T18:11:12.297926",
          "status": "completed"
        },
        "tags": []
      },
      "outputs": [],
      "source": [
        "airpass_new.dropna(inplace=True)"
      ]
    },
    {
      "cell_type": "code",
      "execution_count": null,
      "metadata": {
        "execution": {
          "iopub.execute_input": "2021-02-21T18:11:12.463411Z",
          "iopub.status.busy": "2021-02-21T18:11:12.462364Z",
          "iopub.status.idle": "2021-02-21T18:11:12.466779Z",
          "shell.execute_reply": "2021-02-21T18:11:12.466120Z"
        },
        "id": "z_TDMGSq0D6n",
        "papermill": {
          "duration": 0.061972,
          "end_time": "2021-02-21T18:11:12.466926",
          "exception": false,
          "start_time": "2021-02-21T18:11:12.404954",
          "status": "completed"
        },
        "tags": []
      },
      "outputs": [],
      "source": [
        "airpass_new.head()"
      ]
    },
    {
      "cell_type": "code",
      "execution_count": null,
      "metadata": {
        "execution": {
          "iopub.execute_input": "2021-02-21T18:11:12.618304Z",
          "iopub.status.busy": "2021-02-21T18:11:12.587846Z",
          "iopub.status.idle": "2021-02-21T18:11:12.807913Z",
          "shell.execute_reply": "2021-02-21T18:11:12.806974Z"
        },
        "id": "vS3Aq6hE0D6n",
        "papermill": {
          "duration": 0.292411,
          "end_time": "2021-02-21T18:11:12.808142",
          "exception": false,
          "start_time": "2021-02-21T18:11:12.515731",
          "status": "completed"
        },
        "tags": []
      },
      "outputs": [],
      "source": [
        "test_stationarity(airpass_new)"
      ]
    },
    {
      "cell_type": "code",
      "execution_count": null,
      "metadata": {
        "execution": {
          "iopub.execute_input": "2021-02-21T18:11:13.256220Z",
          "iopub.status.busy": "2021-02-21T18:11:13.255186Z",
          "iopub.status.idle": "2021-02-21T18:11:13.401112Z",
          "shell.execute_reply": "2021-02-21T18:11:13.400360Z"
        },
        "id": "5cSleMdX0D6n",
        "papermill": {
          "duration": 0.211435,
          "end_time": "2021-02-21T18:11:13.401273",
          "exception": false,
          "start_time": "2021-02-21T18:11:13.189838",
          "status": "completed"
        },
        "tags": []
      },
      "outputs": [],
      "source": [
        "airpass_log_diff = airpass_log - airpass_log.shift()\n",
        "plt.plot(airpass_log_diff)"
      ]
    },
    {
      "cell_type": "code",
      "execution_count": null,
      "metadata": {
        "execution": {
          "iopub.execute_input": "2021-02-21T18:11:13.532337Z",
          "iopub.status.busy": "2021-02-21T18:11:13.530619Z",
          "iopub.status.idle": "2021-02-21T18:11:13.672372Z",
          "shell.execute_reply": "2021-02-21T18:11:13.671470Z"
        },
        "id": "BPPBkWc50D6o",
        "papermill": {
          "duration": 0.217458,
          "end_time": "2021-02-21T18:11:13.672558",
          "exception": false,
          "start_time": "2021-02-21T18:11:13.455100",
          "status": "completed"
        },
        "tags": []
      },
      "outputs": [],
      "source": [
        "airpass_log_diff.dropna(inplace=True)\n",
        "plt.plot(airpass_log_diff)"
      ]
    },
    {
      "cell_type": "code",
      "execution_count": null,
      "metadata": {
        "execution": {
          "iopub.execute_input": "2021-02-21T18:11:13.788925Z",
          "iopub.status.busy": "2021-02-21T18:11:13.787824Z",
          "iopub.status.idle": "2021-02-21T18:11:14.019421Z",
          "shell.execute_reply": "2021-02-21T18:11:14.018436Z"
        },
        "id": "RSStZPR40D6o",
        "papermill": {
          "duration": 0.291937,
          "end_time": "2021-02-21T18:11:14.019660",
          "exception": false,
          "start_time": "2021-02-21T18:11:13.727723",
          "status": "completed"
        },
        "tags": []
      },
      "outputs": [],
      "source": [
        "test_stationarity(airpass_log_diff)"
      ]
    },
    {
      "cell_type": "code",
      "execution_count": null,
      "metadata": {
        "execution": {
          "iopub.execute_input": "2021-02-21T18:11:14.372877Z",
          "iopub.status.busy": "2021-02-21T18:11:14.369837Z",
          "iopub.status.idle": "2021-02-21T18:11:14.954783Z",
          "shell.execute_reply": "2021-02-21T18:11:14.954244Z"
        },
        "id": "mCeGNCKw0D6o",
        "papermill": {
          "duration": 0.65366,
          "end_time": "2021-02-21T18:11:14.954938",
          "exception": false,
          "start_time": "2021-02-21T18:11:14.301278",
          "status": "completed"
        },
        "tags": []
      },
      "outputs": [],
      "source": [
        "decomposition = seasonal_decompose(airpass_log)\n",
        "\n",
        "trend = decomposition.trend\n",
        "seasonal = decomposition.seasonal\n",
        "residual = decomposition.resid\n",
        "\n",
        "plt.subplot(411)\n",
        "plt.plot(airpass_log, label='Original')\n",
        "plt.legend(loc='best')\n",
        "\n",
        "plt.subplot(412)\n",
        "plt.plot(trend, label='Trend')\n",
        "plt.legend(loc='best')\n",
        "\n",
        "plt.subplot(413)\n",
        "plt.plot(seasonal,label='Seasonality')\n",
        "plt.legend(loc='best')\n",
        "\n",
        "plt.subplot(414)\n",
        "plt.plot(residual, label='Residuals')\n",
        "plt.legend(loc='best')\n",
        "plt.tight_layout()"
      ]
    },
    {
      "cell_type": "code",
      "execution_count": null,
      "metadata": {
        "execution": {
          "iopub.execute_input": "2021-02-21T18:11:15.196181Z",
          "iopub.status.busy": "2021-02-21T18:11:15.195523Z",
          "iopub.status.idle": "2021-02-21T18:11:15.198377Z",
          "shell.execute_reply": "2021-02-21T18:11:15.197827Z"
        },
        "id": "m2ECBkqb0D6o",
        "papermill": {
          "duration": 0.066475,
          "end_time": "2021-02-21T18:11:15.198537",
          "exception": false,
          "start_time": "2021-02-21T18:11:15.132062",
          "status": "completed"
        },
        "tags": []
      },
      "outputs": [],
      "source": [
        "airpass_decompose = residual\n",
        "airpass_decompose.dropna(inplace=True)"
      ]
    },
    {
      "cell_type": "code",
      "execution_count": null,
      "metadata": {
        "execution": {
          "iopub.execute_input": "2021-02-21T18:11:15.317744Z",
          "iopub.status.busy": "2021-02-21T18:11:15.317106Z",
          "iopub.status.idle": "2021-02-21T18:11:15.544435Z",
          "shell.execute_reply": "2021-02-21T18:11:15.543920Z"
        },
        "id": "Spt7hGMk0D6o",
        "papermill": {
          "duration": 0.287912,
          "end_time": "2021-02-21T18:11:15.544601",
          "exception": false,
          "start_time": "2021-02-21T18:11:15.256689",
          "status": "completed"
        },
        "tags": []
      },
      "outputs": [],
      "source": [
        "rollmean_decompose = airpass_decompose.rolling(window=12).mean()\n",
        "rollstd_decompose = airpass_decompose.rolling(window=12).std()\n",
        "\n",
        "plt.plot(airpass_decompose, color='blue', label='Original')\n",
        "plt.plot(rollmean_decompose, color='red', label='Rolling Mean')\n",
        "plt.plot(rollstd_decompose, color='black', label='Rolling Std')\n",
        "plt.legend(loc='best')\n",
        "plt.title('Rolling Mean & Standard Deviation')"
      ]
    },
    {
      "cell_type": "code",
      "execution_count": null,
      "metadata": {
        "execution": {
          "iopub.execute_input": "2021-02-21T18:11:15.797427Z",
          "iopub.status.busy": "2021-02-21T18:11:15.796565Z",
          "iopub.status.idle": "2021-02-21T18:11:15.800794Z",
          "shell.execute_reply": "2021-02-21T18:11:15.800199Z"
        },
        "id": "FKeKDjgk0D6o",
        "papermill": {
          "duration": 0.074987,
          "end_time": "2021-02-21T18:11:15.800945",
          "exception": false,
          "start_time": "2021-02-21T18:11:15.725958",
          "status": "completed"
        },
        "tags": []
      },
      "outputs": [],
      "source": [
        "lag_acf = acf(airpass_log_diff, nlags=20)\n",
        "lag_pacf = pacf(airpass_log_diff, nlags=20, method='ols')"
      ]
    },
    {
      "cell_type": "code",
      "execution_count": null,
      "metadata": {
        "execution": {
          "iopub.execute_input": "2021-02-21T18:11:15.936441Z",
          "iopub.status.busy": "2021-02-21T18:11:15.935757Z",
          "iopub.status.idle": "2021-02-21T18:11:16.228661Z",
          "shell.execute_reply": "2021-02-21T18:11:16.229161Z"
        },
        "id": "EYNitZh20D6o",
        "papermill": {
          "duration": 0.368246,
          "end_time": "2021-02-21T18:11:16.229376",
          "exception": false,
          "start_time": "2021-02-21T18:11:15.861130",
          "status": "completed"
        },
        "tags": []
      },
      "outputs": [],
      "source": [
        "#Plot ACF:\n",
        "plt.subplot(121)\n",
        "plt.plot(lag_acf)\n",
        "plt.axhline(y=0, linestyle='--', color='gray')\n",
        "plt.axhline(y=-1.96/np.sqrt(len(airpass_log_diff)), linestyle='--', color='gray')\n",
        "plt.axhline(y=1.96/np.sqrt(len(airpass_log_diff)), linestyle='--', color='gray')\n",
        "plt.title('Autocorrelation Function')\n",
        "\n",
        "#Plot PACF\n",
        "plt.subplot(122)\n",
        "plt.plot(lag_pacf)\n",
        "plt.axhline(y=0, linestyle='--', color='gray')\n",
        "plt.axhline(y=-1.96/np.sqrt(len(airpass_log_diff)), linestyle='--', color='gray')\n",
        "plt.axhline(y=1.96/np.sqrt(len(airpass_log_diff)), linestyle='--', color='gray')\n",
        "plt.title('Partial Autocorrelation Function')\n",
        "\n",
        "plt.tight_layout()"
      ]
    },
    {
      "cell_type": "code",
      "execution_count": null,
      "metadata": {
        "execution": {
          "iopub.execute_input": "2021-02-21T18:11:16.668749Z",
          "iopub.status.busy": "2021-02-21T18:11:16.667905Z",
          "iopub.status.idle": "2021-02-21T18:11:17.056724Z",
          "shell.execute_reply": "2021-02-21T18:11:17.056153Z"
        },
        "id": "H8mh1aP40D6o",
        "papermill": {
          "duration": 0.474309,
          "end_time": "2021-02-21T18:11:17.056868",
          "exception": false,
          "start_time": "2021-02-21T18:11:16.582559",
          "status": "completed"
        },
        "tags": []
      },
      "outputs": [],
      "source": [
        "model1 = ARIMA(airpass_log, order=(2,1,0))\n",
        "results_AR = model1.fit(disp=-1)\n",
        "plt.plot(airpass_log_diff)\n",
        "plt.plot(results_AR.fittedvalues, color='red')\n",
        "plt.title('RSS: %.4f'%sum((results_AR.fittedvalues - airpass_log_diff['Passengers'])**2))\n",
        "print('Plotting AR model')"
      ]
    },
    {
      "cell_type": "code",
      "execution_count": null,
      "metadata": {
        "execution": {
          "iopub.execute_input": "2021-02-21T18:11:17.335129Z",
          "iopub.status.busy": "2021-02-21T18:11:17.334138Z",
          "iopub.status.idle": "2021-02-21T18:11:17.553937Z",
          "shell.execute_reply": "2021-02-21T18:11:17.553028Z"
        },
        "id": "jqX4YdmG0D6o",
        "papermill": {
          "duration": 0.297845,
          "end_time": "2021-02-21T18:11:17.554088",
          "exception": false,
          "start_time": "2021-02-21T18:11:17.256243",
          "status": "completed"
        },
        "tags": []
      },
      "outputs": [],
      "source": [
        "model2 = ARIMA(airpass_log, order=(0,1,2))\n",
        "results_MA = model2.fit(disp=-1)\n",
        "plt.plot(airpass_log_diff)\n",
        "plt.plot(results_MA.fittedvalues, color='red')\n",
        "plt.title('RSS: %.4f'%sum((results_MA.fittedvalues - airpass_log_diff['Passengers'])**2))\n",
        "print('Plotting MA model')"
      ]
    },
    {
      "cell_type": "code",
      "execution_count": null,
      "metadata": {
        "execution": {
          "iopub.execute_input": "2021-02-21T18:11:17.839618Z",
          "iopub.status.busy": "2021-02-21T18:11:17.838609Z",
          "iopub.status.idle": "2021-02-21T18:11:18.397763Z",
          "shell.execute_reply": "2021-02-21T18:11:18.397128Z"
        },
        "id": "8_RCLw6A0D6o",
        "papermill": {
          "duration": 0.640946,
          "end_time": "2021-02-21T18:11:18.397907",
          "exception": false,
          "start_time": "2021-02-21T18:11:17.756961",
          "status": "completed"
        },
        "tags": []
      },
      "outputs": [],
      "source": [
        "model = ARIMA(airpass_log, order=(2,1,2))\n",
        "results_ARIMA = model.fit(disp=-1)\n",
        "plt.plot(airpass_log_diff)\n",
        "plt.plot(results_ARIMA.fittedvalues, color='red')\n",
        "plt.title('RSS: %.4f'%sum((results_ARIMA.fittedvalues - airpass_log_diff['Passengers'])**2))\n",
        "print('Plotting ARIMA model')"
      ]
    },
    {
      "cell_type": "code",
      "execution_count": null,
      "metadata": {
        "execution": {
          "iopub.execute_input": "2021-02-21T18:11:18.826816Z",
          "iopub.status.busy": "2021-02-21T18:11:18.825893Z",
          "iopub.status.idle": "2021-02-21T18:11:18.830273Z",
          "shell.execute_reply": "2021-02-21T18:11:18.829735Z"
        },
        "id": "BEgdRwYX0D6p",
        "papermill": {
          "duration": 0.08201,
          "end_time": "2021-02-21T18:11:18.830413",
          "exception": false,
          "start_time": "2021-02-21T18:11:18.748403",
          "status": "completed"
        },
        "tags": []
      },
      "outputs": [],
      "source": [
        "predictions_ARIMA_diff = pd.Series(results_ARIMA.fittedvalues, copy=True)\n",
        "predictions_ARIMA_diff.head()"
      ]
    },
    {
      "cell_type": "code",
      "execution_count": null,
      "metadata": {
        "execution": {
          "iopub.execute_input": "2021-02-21T18:11:18.980377Z",
          "iopub.status.busy": "2021-02-21T18:11:18.979434Z",
          "iopub.status.idle": "2021-02-21T18:11:18.983125Z",
          "shell.execute_reply": "2021-02-21T18:11:18.983724Z"
        },
        "id": "T9uuq1280D6p",
        "papermill": {
          "duration": 0.083339,
          "end_time": "2021-02-21T18:11:18.983892",
          "exception": false,
          "start_time": "2021-02-21T18:11:18.900553",
          "status": "completed"
        },
        "tags": []
      },
      "outputs": [],
      "source": [
        "predictions_ARIMA_diff_cumsum = predictions_ARIMA_diff.cumsum()\n",
        "predictions_ARIMA_diff_cumsum.head()"
      ]
    },
    {
      "cell_type": "code",
      "execution_count": null,
      "metadata": {
        "execution": {
          "iopub.execute_input": "2021-02-21T18:11:19.130434Z",
          "iopub.status.busy": "2021-02-21T18:11:19.129442Z",
          "iopub.status.idle": "2021-02-21T18:11:19.144707Z",
          "shell.execute_reply": "2021-02-21T18:11:19.144060Z"
        },
        "id": "JQn7BnoW0D6x",
        "papermill": {
          "duration": 0.089597,
          "end_time": "2021-02-21T18:11:19.144862",
          "exception": false,
          "start_time": "2021-02-21T18:11:19.055265",
          "status": "completed"
        },
        "tags": []
      },
      "outputs": [],
      "source": [
        "predictions_ARIMA_log = pd.Series(airpass_log['Passengers'].iloc[0], index=airpass_log.index)\n",
        "predictions_ARIMA_log = predictions_ARIMA_log.add(predictions_ARIMA_diff_cumsum, fill_value=0)\n",
        "predictions_ARIMA_log.head()"
      ]
    },
    {
      "cell_type": "code",
      "execution_count": null,
      "metadata": {
        "id": "lTdxHZo35nrY"
      },
      "outputs": [],
      "source": [
        "np.min(predictions_ARIMA_log)"
      ]
    },
    {
      "cell_type": "code",
      "execution_count": null,
      "metadata": {
        "execution": {
          "iopub.execute_input": "2021-02-21T18:11:19.452676Z",
          "iopub.status.busy": "2021-02-21T18:11:19.451622Z",
          "iopub.status.idle": "2021-02-21T18:11:19.590360Z",
          "shell.execute_reply": "2021-02-21T18:11:19.589798Z"
        },
        "id": "P-xWPnml0D6x",
        "papermill": {
          "duration": 0.232364,
          "end_time": "2021-02-21T18:11:19.590520",
          "exception": false,
          "start_time": "2021-02-21T18:11:19.358156",
          "status": "completed"
        },
        "tags": []
      },
      "outputs": [],
      "source": [
        "predictions_ARIMA = np.exp(predictions_ARIMA_log/300 )\n",
        "plt.plot(airpassind)\n",
        "plt.plot(predictions_ARIMA)"
      ]
    },
    {
      "cell_type": "code",
      "execution_count": null,
      "metadata": {
        "execution": {
          "iopub.execute_input": "2021-02-21T18:11:19.896557Z",
          "iopub.status.busy": "2021-02-21T18:11:19.895673Z",
          "iopub.status.idle": "2021-02-21T18:11:19.899218Z",
          "shell.execute_reply": "2021-02-21T18:11:19.899859Z"
        },
        "id": "O4vyBqxl0D6x",
        "papermill": {
          "duration": 0.088284,
          "end_time": "2021-02-21T18:11:19.900034",
          "exception": false,
          "start_time": "2021-02-21T18:11:19.811750",
          "status": "completed"
        },
        "tags": []
      },
      "outputs": [],
      "source": [
        "airpass_log.head()"
      ]
    },
    {
      "cell_type": "code",
      "execution_count": null,
      "metadata": {
        "execution": {
          "iopub.execute_input": "2021-02-21T18:11:20.197747Z",
          "iopub.status.busy": "2021-02-21T18:11:20.196770Z",
          "iopub.status.idle": "2021-02-21T18:11:20.649697Z",
          "shell.execute_reply": "2021-02-21T18:11:20.649036Z"
        },
        "id": "BtIRo4zP0D6x",
        "papermill": {
          "duration": 0.529382,
          "end_time": "2021-02-21T18:11:20.649846",
          "exception": false,
          "start_time": "2021-02-21T18:11:20.120464",
          "status": "completed"
        },
        "tags": []
      },
      "outputs": [],
      "source": [
        "results_ARIMA.plot_predict(1,264)"
      ]
    }
  ],
  "metadata": {
    "colab": {
      "provenance": []
    },
    "kernelspec": {
      "display_name": "Python 3",
      "language": "python",
      "name": "python3"
    },
    "language_info": {
      "codemirror_mode": {
        "name": "ipython",
        "version": 3
      },
      "file_extension": ".py",
      "mimetype": "text/x-python",
      "name": "python",
      "nbconvert_exporter": "python",
      "pygments_lexer": "ipython3",
      "version": "3.11.4"
    },
    "papermill": {
      "default_parameters": {},
      "duration": 20.357429,
      "end_time": "2021-02-21T18:11:21.436419",
      "environment_variables": {},
      "exception": null,
      "input_path": "__notebook__.ipynb",
      "output_path": "__notebook__.ipynb",
      "parameters": {},
      "start_time": "2021-02-21T18:11:01.078990",
      "version": "2.2.2"
    }
  },
  "nbformat": 4,
  "nbformat_minor": 0
}
